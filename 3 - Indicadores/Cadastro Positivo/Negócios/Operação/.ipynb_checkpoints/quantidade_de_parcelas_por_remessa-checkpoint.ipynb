{
 "cells": [
  {
   "cell_type": "code",
   "execution_count": 1,
   "metadata": {},
   "outputs": [
    {
     "data": {
      "text/plain": [
       "' @author: Beatriz, Daniel, Felipe, João, João, Marcelo;\\n    @team: Bureau SqPy;\\n    @theme: Análise de dados SPC-Brasil - Tabela: STG_OPR_ITT - visualizar o valor total do saldo devedor por remessa;\\n    @ID: US403;\\n    @sprint: 4;\\n    @table: STG_OPR_ITT;\\n    @version: 1.0.0\\n    @referenc: https://pandas.pydata.org/\\n'"
      ]
     },
     "execution_count": 1,
     "metadata": {},
     "output_type": "execute_result"
    }
   ],
   "source": [
    "''' @author: Beatriz, Daniel, Felipe, João, João, Marcelo;\n",
    "    @team: Bureau SqPy;\n",
    "    @theme: Análise de dados SPC-Brasil - Tabela: STG_OPR_ITT - visualizar o valor total do saldo devedor por remessa;\n",
    "    @ID: US403;\n",
    "    @sprint: 4;\n",
    "    @table: STG_OPR_ITT;\n",
    "    @version: 1.0.0\n",
    "    @referenc: https://pandas.pydata.org/\n",
    "'''"
   ]
  },
  {
   "cell_type": "code",
   "execution_count": 2,
   "metadata": {},
   "outputs": [],
   "source": [
    "#Importação as bibliotecas\n",
    "import pandas as pd\n",
    "import matplotlib.pyplot as plt\n",
    "import xlrd\n",
    "\n",
    "filepath = \"../../../../1 - Tabelas Base/\"\n",
    "#imbutido no pandas\n",
    "%matplotlib inline"
   ]
  },
  {
   "cell_type": "code",
   "execution_count": 3,
   "metadata": {},
   "outputs": [],
   "source": [
    "##Variável para fazer a leitura da tabela em CSV\n",
    "#tabela = pd.read_csv(\"STG_OPR_ITT.csv\", encoding=\"UTF-8\", delimiter=\";\")\n",
    "tabela1 = pd.read_excel(filepath + \"STG_OPR_ITT.xlsx\", encoding=\"UTF-8\", delimiter=\";\")"
   ]
  },
  {
   "cell_type": "code",
   "execution_count": 4,
   "metadata": {},
   "outputs": [
    {
     "name": "stdout",
     "output_type": "stream",
     "text": [
      "Quantidade de parcelas por remessa é de 94079\n"
     ]
    }
   ],
   "source": [
    "#Variável para fazer a soma da linha QTD_PCL\n",
    "total = tabela1[\"QTD_PCL\"].sum()\n",
    "\n",
    "print(f'Quantidade de parcelas por remessa é de {total}')"
   ]
  },
  {
   "cell_type": "code",
   "execution_count": 5,
   "metadata": {
    "scrolled": true
   },
   "outputs": [
    {
     "data": {
      "text/html": [
       "<div>\n",
       "<style scoped>\n",
       "    .dataframe tbody tr th:only-of-type {\n",
       "        vertical-align: middle;\n",
       "    }\n",
       "\n",
       "    .dataframe tbody tr th {\n",
       "        vertical-align: top;\n",
       "    }\n",
       "\n",
       "    .dataframe thead th {\n",
       "        text-align: right;\n",
       "    }\n",
       "</style>\n",
       "<table border=\"1\" class=\"dataframe\">\n",
       "  <thead>\n",
       "    <tr style=\"text-align: right;\">\n",
       "      <th></th>\n",
       "      <th>QTD_PCL</th>\n",
       "    </tr>\n",
       "  </thead>\n",
       "  <tbody>\n",
       "    <tr>\n",
       "      <th>Quantidade</th>\n",
       "      <td>94079</td>\n",
       "    </tr>\n",
       "  </tbody>\n",
       "</table>\n",
       "</div>"
      ],
      "text/plain": [
       "            QTD_PCL\n",
       "Quantidade    94079"
      ]
     },
     "execution_count": 5,
     "metadata": {},
     "output_type": "execute_result"
    }
   ],
   "source": [
    "#Desenvolvimento de uma coluna e de um dataframe.\n",
    "\n",
    "dados = [int(total)]\n",
    "\n",
    "colunas = ['QTD_PCL']\n",
    "\n",
    "df = pd.DataFrame({\"QTD_PCL\": dados},\n",
    "                      index=['Quantidade'])\n",
    "df"
   ]
  },
  {
   "cell_type": "code",
   "execution_count": 6,
   "metadata": {
    "scrolled": false
   },
   "outputs": [
    {
     "data": {
      "text/plain": [
       "Text(0.5, 1.0, 'Quantidade de parcelas por remessa')"
      ]
     },
     "execution_count": 6,
     "metadata": {},
     "output_type": "execute_result"
    },
    {
     "data": {
      "image/png": "[encoded data removed]",
      "text/plain": [
       "<Figure size 432x288 with 1 Axes>"
      ]
     },
     "metadata": {
      "needs_background": "light"
     },
     "output_type": "display_data"
    }
   ],
   "source": [
    "#Plotagem do dataframe, em barra, legenda na horizontal, grade e título.\n",
    "df.plot(kind='bar', rot=1, legend=False).grid(True)\n",
    "plt.title('Quantidade de parcelas por remessa')"
   ]
  },
  {
   "cell_type": "code",
   "execution_count": 7,
   "metadata": {},
   "outputs": [],
   "source": [
    "#Como retornou nada, as linhas pertencem a mesma remessa.\n",
    "fonte =  tabela1['ID_FNT_ITT'].values.tolist()\n",
    "lis1 = []\n",
    "count = 0\n",
    "for i in fonte:\n",
    "    lis1.append(i)\n",
    "    if i != lis1[count-1]:\n",
    "        print('diferente')\n",
    "        break\n",
    "    count = count +1"
   ]
  },
  {
   "cell_type": "code",
   "execution_count": 8,
   "metadata": {},
   "outputs": [],
   "source": [
    "#Variavéis para chamar os valores e criar a tabela.\n",
    "id_fonte = int(tabela1.loc[2,\"ID_FNT_ITT\"])\n",
    "parcelas = int(total)\n",
    "data = str(tabela1.loc[2,\"DAT_RSS_FNT_ITT\"])\n",
    "\n",
    "df_total = [[id_fonte, parcelas, data]]\n",
    "\n",
    "colunas = [\"ID da fonte\", \"Quantidade de parcelas\", \"Data\"]"
   ]
  },
  {
   "cell_type": "code",
   "execution_count": 9,
   "metadata": {
    "scrolled": true
   },
   "outputs": [
    {
     "data": {
      "text/html": [
       "<div>\n",
       "<style scoped>\n",
       "    .dataframe tbody tr th:only-of-type {\n",
       "        vertical-align: middle;\n",
       "    }\n",
       "\n",
       "    .dataframe tbody tr th {\n",
       "        vertical-align: top;\n",
       "    }\n",
       "\n",
       "    .dataframe thead th {\n",
       "        text-align: right;\n",
       "    }\n",
       "</style>\n",
       "<table border=\"1\" class=\"dataframe\">\n",
       "  <thead>\n",
       "    <tr style=\"text-align: right;\">\n",
       "      <th></th>\n",
       "      <th>ID da fonte</th>\n",
       "      <th>Quantidade de parcelas</th>\n",
       "      <th>Data</th>\n",
       "    </tr>\n",
       "  </thead>\n",
       "  <tbody>\n",
       "    <tr>\n",
       "      <th>0</th>\n",
       "      <td>67</td>\n",
       "      <td>94079</td>\n",
       "      <td>2020-01-16</td>\n",
       "    </tr>\n",
       "  </tbody>\n",
       "</table>\n",
       "</div>"
      ],
      "text/plain": [
       "   ID da fonte  Quantidade de parcelas        Data\n",
       "0           67                   94079  2020-01-16"
      ]
     },
     "execution_count": 9,
     "metadata": {},
     "output_type": "execute_result"
    }
   ],
   "source": [
    "#Criação do DataFrame.\n",
    "df_final = pd.DataFrame(data = df_total, columns = colunas)\n",
    "df_final"
   ]
  },
  {
   "cell_type": "code",
   "execution_count": 10,
   "metadata": {},
   "outputs": [],
   "source": [
    "#Novo DataFrame salvo em um arquivo xlsx\n",
    "df_final.to_excel(\"quantidade_de_parcelas_por_remessa.xlsx\",index=True)"
   ]
  }
 ],
 "metadata": {
  "kernelspec": {
   "display_name": "Python 3",
   "language": "python",
   "name": "python3"
  },
  "language_info": {
   "codemirror_mode": {
    "name": "ipython",
    "version": 3
   },
   "file_extension": ".py",
   "mimetype": "text/x-python",
   "name": "python",
   "nbconvert_exporter": "python",
   "pygments_lexer": "ipython3",
   "version": "3.8.2"
  }
 },
 "nbformat": 4,
 "nbformat_minor": 4
}
