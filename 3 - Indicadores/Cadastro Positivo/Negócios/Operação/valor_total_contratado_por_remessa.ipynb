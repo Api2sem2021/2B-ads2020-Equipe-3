{
 "cells": [
  {
   "cell_type": "markdown",
   "metadata": {},
   "source": [
    "# 1. Import library, read xlsl file, create df"
   ]
  },
  {
   "cell_type": "code",
   "execution_count": 1,
   "metadata": {},
   "outputs": [
    {
     "data": {
      "text/html": [
       "<div>\n",
       "<style scoped>\n",
       "    .dataframe tbody tr th:only-of-type {\n",
       "        vertical-align: middle;\n",
       "    }\n",
       "\n",
       "    .dataframe tbody tr th {\n",
       "        vertical-align: top;\n",
       "    }\n",
       "\n",
       "    .dataframe thead th {\n",
       "        text-align: right;\n",
       "    }\n",
       "</style>\n",
       "<table border=\"1\" class=\"dataframe\">\n",
       "  <thead>\n",
       "    <tr style=\"text-align: right;\">\n",
       "      <th></th>\n",
       "      <th>ID_STG_OPR_ITT</th>\n",
       "      <th>VLR_CTRD_CSC</th>\n",
       "      <th>QTD_PCL</th>\n",
       "      <th>VLR_SDO_DDR</th>\n",
       "      <th>QTD_CLI_CAD_POS</th>\n",
       "      <th>QTD_OPR</th>\n",
       "      <th>ID_FNT_ITT</th>\n",
       "      <th>ID_MDL</th>\n",
       "      <th>DES_TIP_PSS</th>\n",
       "      <th>DAT_RSS_FNT_ITT</th>\n",
       "      <th>DAT_INC_DBO</th>\n",
       "    </tr>\n",
       "  </thead>\n",
       "  <tbody>\n",
       "    <tr>\n",
       "      <th>0</th>\n",
       "      <td>1</td>\n",
       "      <td>NaN</td>\n",
       "      <td>45</td>\n",
       "      <td>NaN</td>\n",
       "      <td>341</td>\n",
       "      <td>358</td>\n",
       "      <td>67</td>\n",
       "      <td>A04</td>\n",
       "      <td>F</td>\n",
       "      <td>2020-01-16</td>\n",
       "      <td>2020-01-27 10:49:48.15</td>\n",
       "    </tr>\n",
       "    <tr>\n",
       "      <th>1</th>\n",
       "      <td>2</td>\n",
       "      <td>NaN</td>\n",
       "      <td>63</td>\n",
       "      <td>NaN</td>\n",
       "      <td>103</td>\n",
       "      <td>108</td>\n",
       "      <td>67</td>\n",
       "      <td>B99</td>\n",
       "      <td>F</td>\n",
       "      <td>2020-01-16</td>\n",
       "      <td>2020-01-27 10:49:48.15</td>\n",
       "    </tr>\n",
       "    <tr>\n",
       "      <th>2</th>\n",
       "      <td>3</td>\n",
       "      <td>NaN</td>\n",
       "      <td>22</td>\n",
       "      <td>NaN</td>\n",
       "      <td>15</td>\n",
       "      <td>16</td>\n",
       "      <td>67</td>\n",
       "      <td>B05</td>\n",
       "      <td>F</td>\n",
       "      <td>2020-01-16</td>\n",
       "      <td>2020-01-27 10:49:48.15</td>\n",
       "    </tr>\n",
       "    <tr>\n",
       "      <th>3</th>\n",
       "      <td>4</td>\n",
       "      <td>NaN</td>\n",
       "      <td>48</td>\n",
       "      <td>NaN</td>\n",
       "      <td>9</td>\n",
       "      <td>9</td>\n",
       "      <td>67</td>\n",
       "      <td>B03</td>\n",
       "      <td>F</td>\n",
       "      <td>2020-01-16</td>\n",
       "      <td>2020-01-27 10:49:48.15</td>\n",
       "    </tr>\n",
       "    <tr>\n",
       "      <th>4</th>\n",
       "      <td>5</td>\n",
       "      <td>NaN</td>\n",
       "      <td>290</td>\n",
       "      <td>NaN</td>\n",
       "      <td>3</td>\n",
       "      <td>3</td>\n",
       "      <td>67</td>\n",
       "      <td>B03</td>\n",
       "      <td>F</td>\n",
       "      <td>2020-01-16</td>\n",
       "      <td>2020-01-27 10:49:48.15</td>\n",
       "    </tr>\n",
       "  </tbody>\n",
       "</table>\n",
       "</div>"
      ],
      "text/plain": [
       "   ID_STG_OPR_ITT  VLR_CTRD_CSC  QTD_PCL  VLR_SDO_DDR  QTD_CLI_CAD_POS  \\\n",
       "0               1           NaN       45          NaN              341   \n",
       "1               2           NaN       63          NaN              103   \n",
       "2               3           NaN       22          NaN               15   \n",
       "3               4           NaN       48          NaN                9   \n",
       "4               5           NaN      290          NaN                3   \n",
       "\n",
       "   QTD_OPR  ID_FNT_ITT ID_MDL DES_TIP_PSS DAT_RSS_FNT_ITT  \\\n",
       "0      358          67    A04           F      2020-01-16   \n",
       "1      108          67    B99           F      2020-01-16   \n",
       "2       16          67    B05           F      2020-01-16   \n",
       "3        9          67    B03           F      2020-01-16   \n",
       "4        3          67    B03           F      2020-01-16   \n",
       "\n",
       "              DAT_INC_DBO  \n",
       "0  2020-01-27 10:49:48.15  \n",
       "1  2020-01-27 10:49:48.15  \n",
       "2  2020-01-27 10:49:48.15  \n",
       "3  2020-01-27 10:49:48.15  \n",
       "4  2020-01-27 10:49:48.15  "
      ]
     },
     "execution_count": 1,
     "metadata": {},
     "output_type": "execute_result"
    }
   ],
   "source": [
    "import pandas as pd\n",
    "low_memory=False\n",
    "%matplotlib inline\n",
    "\n",
    "from IPython.display import Markdown, display\n",
    "def printmd(string):\n",
    "    display(Markdown(string))\n",
    "    \n",
    "df_opr= pd.read_excel('STG_OPR_ITT.xlsx')\n",
    "\n",
    "df_opr.head(5)"
   ]
  },
  {
   "cell_type": "markdown",
   "metadata": {},
   "source": [
    "# 2. Rename column names"
   ]
  },
  {
   "cell_type": "code",
   "execution_count": 2,
   "metadata": {
    "scrolled": true
   },
   "outputs": [
    {
     "data": {
      "text/html": [
       "<div>\n",
       "<style scoped>\n",
       "    .dataframe tbody tr th:only-of-type {\n",
       "        vertical-align: middle;\n",
       "    }\n",
       "\n",
       "    .dataframe tbody tr th {\n",
       "        vertical-align: top;\n",
       "    }\n",
       "\n",
       "    .dataframe thead th {\n",
       "        text-align: right;\n",
       "    }\n",
       "</style>\n",
       "<table border=\"1\" class=\"dataframe\">\n",
       "  <thead>\n",
       "    <tr style=\"text-align: right;\">\n",
       "      <th></th>\n",
       "      <th>Id_da_Stage</th>\n",
       "      <th>Valor_Total_Contrato</th>\n",
       "      <th>Qtd_Parcela_Contratada</th>\n",
       "      <th>Valor_Nao_Pago</th>\n",
       "      <th>CPF_Distinto</th>\n",
       "      <th>Operacoes_Unicas</th>\n",
       "      <th>Fonte_Dados</th>\n",
       "      <th>Modalidade_Operacao</th>\n",
       "      <th>Tipo_Cliente</th>\n",
       "      <th>Data_Ultima_Alteracao</th>\n",
       "      <th>Data_Inclusao</th>\n",
       "    </tr>\n",
       "  </thead>\n",
       "  <tbody>\n",
       "    <tr>\n",
       "      <th>0</th>\n",
       "      <td>1</td>\n",
       "      <td>NaN</td>\n",
       "      <td>45</td>\n",
       "      <td>NaN</td>\n",
       "      <td>341</td>\n",
       "      <td>358</td>\n",
       "      <td>67</td>\n",
       "      <td>A04</td>\n",
       "      <td>F</td>\n",
       "      <td>2020-01-16</td>\n",
       "      <td>2020-01-27 10:49:48.15</td>\n",
       "    </tr>\n",
       "    <tr>\n",
       "      <th>1</th>\n",
       "      <td>2</td>\n",
       "      <td>NaN</td>\n",
       "      <td>63</td>\n",
       "      <td>NaN</td>\n",
       "      <td>103</td>\n",
       "      <td>108</td>\n",
       "      <td>67</td>\n",
       "      <td>B99</td>\n",
       "      <td>F</td>\n",
       "      <td>2020-01-16</td>\n",
       "      <td>2020-01-27 10:49:48.15</td>\n",
       "    </tr>\n",
       "    <tr>\n",
       "      <th>2</th>\n",
       "      <td>3</td>\n",
       "      <td>NaN</td>\n",
       "      <td>22</td>\n",
       "      <td>NaN</td>\n",
       "      <td>15</td>\n",
       "      <td>16</td>\n",
       "      <td>67</td>\n",
       "      <td>B05</td>\n",
       "      <td>F</td>\n",
       "      <td>2020-01-16</td>\n",
       "      <td>2020-01-27 10:49:48.15</td>\n",
       "    </tr>\n",
       "    <tr>\n",
       "      <th>3</th>\n",
       "      <td>4</td>\n",
       "      <td>NaN</td>\n",
       "      <td>48</td>\n",
       "      <td>NaN</td>\n",
       "      <td>9</td>\n",
       "      <td>9</td>\n",
       "      <td>67</td>\n",
       "      <td>B03</td>\n",
       "      <td>F</td>\n",
       "      <td>2020-01-16</td>\n",
       "      <td>2020-01-27 10:49:48.15</td>\n",
       "    </tr>\n",
       "    <tr>\n",
       "      <th>4</th>\n",
       "      <td>5</td>\n",
       "      <td>NaN</td>\n",
       "      <td>290</td>\n",
       "      <td>NaN</td>\n",
       "      <td>3</td>\n",
       "      <td>3</td>\n",
       "      <td>67</td>\n",
       "      <td>B03</td>\n",
       "      <td>F</td>\n",
       "      <td>2020-01-16</td>\n",
       "      <td>2020-01-27 10:49:48.15</td>\n",
       "    </tr>\n",
       "  </tbody>\n",
       "</table>\n",
       "</div>"
      ],
      "text/plain": [
       "   Id_da_Stage  Valor_Total_Contrato  Qtd_Parcela_Contratada  Valor_Nao_Pago  \\\n",
       "0            1                   NaN                      45             NaN   \n",
       "1            2                   NaN                      63             NaN   \n",
       "2            3                   NaN                      22             NaN   \n",
       "3            4                   NaN                      48             NaN   \n",
       "4            5                   NaN                     290             NaN   \n",
       "\n",
       "   CPF_Distinto  Operacoes_Unicas  Fonte_Dados Modalidade_Operacao  \\\n",
       "0           341               358           67                 A04   \n",
       "1           103               108           67                 B99   \n",
       "2            15                16           67                 B05   \n",
       "3             9                 9           67                 B03   \n",
       "4             3                 3           67                 B03   \n",
       "\n",
       "  Tipo_Cliente Data_Ultima_Alteracao           Data_Inclusao  \n",
       "0            F            2020-01-16  2020-01-27 10:49:48.15  \n",
       "1            F            2020-01-16  2020-01-27 10:49:48.15  \n",
       "2            F            2020-01-16  2020-01-27 10:49:48.15  \n",
       "3            F            2020-01-16  2020-01-27 10:49:48.15  \n",
       "4            F            2020-01-16  2020-01-27 10:49:48.15  "
      ]
     },
     "execution_count": 2,
     "metadata": {},
     "output_type": "execute_result"
    }
   ],
   "source": [
    "df_opr=df_opr.rename(columns= {'ID_STG_OPR_ITT':'Id_da_Stage', 'VLR_CTRD_CSC':'Valor_Total_Contrato', 'QTD_PCL':'Qtd_Parcela_Contratada', 'VLR_SDO_DDR':'Valor_Nao_Pago', 'QTD_CLI_CAD_POS':'CPF_Distinto', 'QTD_OPR':'Operacoes_Unicas',\n",
    "                     'ID_FNT_ITT':'Fonte_Dados', 'ID_MDL':'Modalidade_Operacao', 'DES_TIP_PSS':'Tipo_Cliente', 'DAT_RSS_FNT_ITT':'Data_Ultima_Alteracao', 'DAT_INC_DBO':'Data_Inclusao'})\n",
    "df_opr.head(5)"
   ]
  },
  {
   "cell_type": "markdown",
   "metadata": {},
   "source": [
    "# 3. Test if the columns \"Fonte_Dados\" and \"Data_Ultima_Alteracao\" have different data respectively"
   ]
  },
  {
   "cell_type": "code",
   "execution_count": 3,
   "metadata": {},
   "outputs": [],
   "source": [
    "diferente = df_opr['Fonte_Dados'].values.tolist()\n",
    "\n",
    "lis = []\n",
    "count = 0\n",
    "for i in diferente:\n",
    "    lis.append(i)\n",
    "    if i != lis[count-1]:\n",
    "        print('diferente')\n",
    "        break\n",
    "    count = count +1"
   ]
  },
  {
   "cell_type": "code",
   "execution_count": 4,
   "metadata": {},
   "outputs": [],
   "source": [
    "diferente2 = df_opr['Data_Ultima_Alteracao'].values.tolist()\n",
    "\n",
    "lis = []\n",
    "count = 0\n",
    "for i in diferente2:\n",
    "    lis.append(i)\n",
    "    if i != lis[count-1]:\n",
    "        print('diferente')\n",
    "        break\n",
    "    count = count +1"
   ]
  },
  {
   "cell_type": "markdown",
   "metadata": {},
   "source": [
    "# 4. Sort column 'Modalidade_Operacao' by its values"
   ]
  },
  {
   "cell_type": "code",
   "execution_count": 13,
   "metadata": {},
   "outputs": [
    {
     "data": {
      "text/plain": [
       "Modalidade_Operacao\n",
       "F01      1\n",
       "G01      1\n",
       "B07      2\n",
       "B06      4\n",
       "B01     19\n",
       "A05     20\n",
       "A99     35\n",
       "B05     71\n",
       "B99    104\n",
       "A04    112\n",
       "A01    122\n",
       "C01    186\n",
       "B03    214\n",
       "dtype: int64"
      ]
     },
     "execution_count": 13,
     "metadata": {},
     "output_type": "execute_result"
    }
   ],
   "source": [
    "df_opr.groupby('Modalidade_Operacao').size().sort_values()"
   ]
  },
  {
   "cell_type": "markdown",
   "metadata": {},
   "source": [
    "# 5. Apply string type for all values in 'Valor_Total_Contrato'\n"
   ]
  },
  {
   "cell_type": "code",
   "execution_count": 18,
   "metadata": {},
   "outputs": [],
   "source": [
    "df_opr['Valor_Total_Contrato'] = df_opr['Valor_Total_Contrato'].apply(str) "
   ]
  },
  {
   "cell_type": "markdown",
   "metadata": {},
   "source": [
    "# 6. Confirm 'Valor_Total_Contrato' of all the 'Modalide_Operacao'"
   ]
  },
  {
   "cell_type": "code",
   "execution_count": 34,
   "metadata": {},
   "outputs": [
    {
     "data": {
      "text/html": [
       "<div>\n",
       "<style scoped>\n",
       "    .dataframe tbody tr th:only-of-type {\n",
       "        vertical-align: middle;\n",
       "    }\n",
       "\n",
       "    .dataframe tbody tr th {\n",
       "        vertical-align: top;\n",
       "    }\n",
       "\n",
       "    .dataframe thead th {\n",
       "        text-align: right;\n",
       "    }\n",
       "</style>\n",
       "<table border=\"1\" class=\"dataframe\">\n",
       "  <thead>\n",
       "    <tr style=\"text-align: right;\">\n",
       "      <th></th>\n",
       "      <th>Id_da_Stage</th>\n",
       "      <th>Valor_Total_Contrato</th>\n",
       "      <th>Qtd_Parcela_Contratada</th>\n",
       "      <th>Valor_Nao_Pago</th>\n",
       "      <th>CPF_Distinto</th>\n",
       "      <th>Operacoes_Unicas</th>\n",
       "      <th>Fonte_Dados</th>\n",
       "      <th>Modalidade_Operacao</th>\n",
       "      <th>Tipo_Cliente</th>\n",
       "      <th>Data_Ultima_Alteracao</th>\n",
       "      <th>Data_Inclusao</th>\n",
       "    </tr>\n",
       "  </thead>\n",
       "  <tbody>\n",
       "  </tbody>\n",
       "</table>\n",
       "</div>"
      ],
      "text/plain": [
       "Empty DataFrame\n",
       "Columns: [Id_da_Stage, Valor_Total_Contrato, Qtd_Parcela_Contratada, Valor_Nao_Pago, CPF_Distinto, Operacoes_Unicas, Fonte_Dados, Modalidade_Operacao, Tipo_Cliente, Data_Ultima_Alteracao, Data_Inclusao]\n",
       "Index: []"
      ]
     },
     "execution_count": 34,
     "metadata": {},
     "output_type": "execute_result"
    }
   ],
   "source": [
    "df_a01 = df_opr.loc[(df_opr['Modalidade_Operacao'] == 'A01') & ~(df_opr['Valor_Total_Contrato'] == 'nan')]\n",
    "df_a01"
   ]
  },
  {
   "cell_type": "code",
   "execution_count": 35,
   "metadata": {},
   "outputs": [
    {
     "data": {
      "text/html": [
       "<div>\n",
       "<style scoped>\n",
       "    .dataframe tbody tr th:only-of-type {\n",
       "        vertical-align: middle;\n",
       "    }\n",
       "\n",
       "    .dataframe tbody tr th {\n",
       "        vertical-align: top;\n",
       "    }\n",
       "\n",
       "    .dataframe thead th {\n",
       "        text-align: right;\n",
       "    }\n",
       "</style>\n",
       "<table border=\"1\" class=\"dataframe\">\n",
       "  <thead>\n",
       "    <tr style=\"text-align: right;\">\n",
       "      <th></th>\n",
       "      <th>Id_da_Stage</th>\n",
       "      <th>Valor_Total_Contrato</th>\n",
       "      <th>Qtd_Parcela_Contratada</th>\n",
       "      <th>Valor_Nao_Pago</th>\n",
       "      <th>CPF_Distinto</th>\n",
       "      <th>Operacoes_Unicas</th>\n",
       "      <th>Fonte_Dados</th>\n",
       "      <th>Modalidade_Operacao</th>\n",
       "      <th>Tipo_Cliente</th>\n",
       "      <th>Data_Ultima_Alteracao</th>\n",
       "      <th>Data_Inclusao</th>\n",
       "    </tr>\n",
       "  </thead>\n",
       "  <tbody>\n",
       "  </tbody>\n",
       "</table>\n",
       "</div>"
      ],
      "text/plain": [
       "Empty DataFrame\n",
       "Columns: [Id_da_Stage, Valor_Total_Contrato, Qtd_Parcela_Contratada, Valor_Nao_Pago, CPF_Distinto, Operacoes_Unicas, Fonte_Dados, Modalidade_Operacao, Tipo_Cliente, Data_Ultima_Alteracao, Data_Inclusao]\n",
       "Index: []"
      ]
     },
     "execution_count": 35,
     "metadata": {},
     "output_type": "execute_result"
    }
   ],
   "source": [
    "df_a04 = df_opr.loc[(df_opr['Modalidade_Operacao'] == 'A04') & ~(df_opr['Valor_Total_Contrato'] == 'nan')]\n",
    "df_a04"
   ]
  },
  {
   "cell_type": "code",
   "execution_count": 36,
   "metadata": {},
   "outputs": [
    {
     "data": {
      "text/html": [
       "<div>\n",
       "<style scoped>\n",
       "    .dataframe tbody tr th:only-of-type {\n",
       "        vertical-align: middle;\n",
       "    }\n",
       "\n",
       "    .dataframe tbody tr th {\n",
       "        vertical-align: top;\n",
       "    }\n",
       "\n",
       "    .dataframe thead th {\n",
       "        text-align: right;\n",
       "    }\n",
       "</style>\n",
       "<table border=\"1\" class=\"dataframe\">\n",
       "  <thead>\n",
       "    <tr style=\"text-align: right;\">\n",
       "      <th></th>\n",
       "      <th>Id_da_Stage</th>\n",
       "      <th>Valor_Total_Contrato</th>\n",
       "      <th>Qtd_Parcela_Contratada</th>\n",
       "      <th>Valor_Nao_Pago</th>\n",
       "      <th>CPF_Distinto</th>\n",
       "      <th>Operacoes_Unicas</th>\n",
       "      <th>Fonte_Dados</th>\n",
       "      <th>Modalidade_Operacao</th>\n",
       "      <th>Tipo_Cliente</th>\n",
       "      <th>Data_Ultima_Alteracao</th>\n",
       "      <th>Data_Inclusao</th>\n",
       "    </tr>\n",
       "  </thead>\n",
       "  <tbody>\n",
       "  </tbody>\n",
       "</table>\n",
       "</div>"
      ],
      "text/plain": [
       "Empty DataFrame\n",
       "Columns: [Id_da_Stage, Valor_Total_Contrato, Qtd_Parcela_Contratada, Valor_Nao_Pago, CPF_Distinto, Operacoes_Unicas, Fonte_Dados, Modalidade_Operacao, Tipo_Cliente, Data_Ultima_Alteracao, Data_Inclusao]\n",
       "Index: []"
      ]
     },
     "execution_count": 36,
     "metadata": {},
     "output_type": "execute_result"
    }
   ],
   "source": [
    "df_a05 = df_opr.loc[(df_opr['Modalidade_Operacao'] == 'A05') & ~(df_opr['Valor_Total_Contrato'] == 'nan')]\n",
    "df_a05"
   ]
  },
  {
   "cell_type": "code",
   "execution_count": 37,
   "metadata": {},
   "outputs": [
    {
     "data": {
      "text/html": [
       "<div>\n",
       "<style scoped>\n",
       "    .dataframe tbody tr th:only-of-type {\n",
       "        vertical-align: middle;\n",
       "    }\n",
       "\n",
       "    .dataframe tbody tr th {\n",
       "        vertical-align: top;\n",
       "    }\n",
       "\n",
       "    .dataframe thead th {\n",
       "        text-align: right;\n",
       "    }\n",
       "</style>\n",
       "<table border=\"1\" class=\"dataframe\">\n",
       "  <thead>\n",
       "    <tr style=\"text-align: right;\">\n",
       "      <th></th>\n",
       "      <th>Id_da_Stage</th>\n",
       "      <th>Valor_Total_Contrato</th>\n",
       "      <th>Qtd_Parcela_Contratada</th>\n",
       "      <th>Valor_Nao_Pago</th>\n",
       "      <th>CPF_Distinto</th>\n",
       "      <th>Operacoes_Unicas</th>\n",
       "      <th>Fonte_Dados</th>\n",
       "      <th>Modalidade_Operacao</th>\n",
       "      <th>Tipo_Cliente</th>\n",
       "      <th>Data_Ultima_Alteracao</th>\n",
       "      <th>Data_Inclusao</th>\n",
       "    </tr>\n",
       "  </thead>\n",
       "  <tbody>\n",
       "  </tbody>\n",
       "</table>\n",
       "</div>"
      ],
      "text/plain": [
       "Empty DataFrame\n",
       "Columns: [Id_da_Stage, Valor_Total_Contrato, Qtd_Parcela_Contratada, Valor_Nao_Pago, CPF_Distinto, Operacoes_Unicas, Fonte_Dados, Modalidade_Operacao, Tipo_Cliente, Data_Ultima_Alteracao, Data_Inclusao]\n",
       "Index: []"
      ]
     },
     "execution_count": 37,
     "metadata": {},
     "output_type": "execute_result"
    }
   ],
   "source": [
    "df_a99 = df_opr.loc[(df_opr['Modalidade_Operacao'] == 'A99') & ~(df_opr['Valor_Total_Contrato'] == 'nan')]\n",
    "df_a99"
   ]
  },
  {
   "cell_type": "code",
   "execution_count": 38,
   "metadata": {},
   "outputs": [
    {
     "data": {
      "text/html": [
       "<div>\n",
       "<style scoped>\n",
       "    .dataframe tbody tr th:only-of-type {\n",
       "        vertical-align: middle;\n",
       "    }\n",
       "\n",
       "    .dataframe tbody tr th {\n",
       "        vertical-align: top;\n",
       "    }\n",
       "\n",
       "    .dataframe thead th {\n",
       "        text-align: right;\n",
       "    }\n",
       "</style>\n",
       "<table border=\"1\" class=\"dataframe\">\n",
       "  <thead>\n",
       "    <tr style=\"text-align: right;\">\n",
       "      <th></th>\n",
       "      <th>Id_da_Stage</th>\n",
       "      <th>Valor_Total_Contrato</th>\n",
       "      <th>Qtd_Parcela_Contratada</th>\n",
       "      <th>Valor_Nao_Pago</th>\n",
       "      <th>CPF_Distinto</th>\n",
       "      <th>Operacoes_Unicas</th>\n",
       "      <th>Fonte_Dados</th>\n",
       "      <th>Modalidade_Operacao</th>\n",
       "      <th>Tipo_Cliente</th>\n",
       "      <th>Data_Ultima_Alteracao</th>\n",
       "      <th>Data_Inclusao</th>\n",
       "    </tr>\n",
       "  </thead>\n",
       "  <tbody>\n",
       "  </tbody>\n",
       "</table>\n",
       "</div>"
      ],
      "text/plain": [
       "Empty DataFrame\n",
       "Columns: [Id_da_Stage, Valor_Total_Contrato, Qtd_Parcela_Contratada, Valor_Nao_Pago, CPF_Distinto, Operacoes_Unicas, Fonte_Dados, Modalidade_Operacao, Tipo_Cliente, Data_Ultima_Alteracao, Data_Inclusao]\n",
       "Index: []"
      ]
     },
     "execution_count": 38,
     "metadata": {},
     "output_type": "execute_result"
    }
   ],
   "source": [
    "df_b01 = df_opr.loc[(df_opr['Modalidade_Operacao'] == 'B01') & ~(df_opr['Valor_Total_Contrato'] == 'nan')]\n",
    "df_b01"
   ]
  },
  {
   "cell_type": "code",
   "execution_count": 39,
   "metadata": {},
   "outputs": [
    {
     "data": {
      "text/html": [
       "<div>\n",
       "<style scoped>\n",
       "    .dataframe tbody tr th:only-of-type {\n",
       "        vertical-align: middle;\n",
       "    }\n",
       "\n",
       "    .dataframe tbody tr th {\n",
       "        vertical-align: top;\n",
       "    }\n",
       "\n",
       "    .dataframe thead th {\n",
       "        text-align: right;\n",
       "    }\n",
       "</style>\n",
       "<table border=\"1\" class=\"dataframe\">\n",
       "  <thead>\n",
       "    <tr style=\"text-align: right;\">\n",
       "      <th></th>\n",
       "      <th>Id_da_Stage</th>\n",
       "      <th>Valor_Total_Contrato</th>\n",
       "      <th>Qtd_Parcela_Contratada</th>\n",
       "      <th>Valor_Nao_Pago</th>\n",
       "      <th>CPF_Distinto</th>\n",
       "      <th>Operacoes_Unicas</th>\n",
       "      <th>Fonte_Dados</th>\n",
       "      <th>Modalidade_Operacao</th>\n",
       "      <th>Tipo_Cliente</th>\n",
       "      <th>Data_Ultima_Alteracao</th>\n",
       "      <th>Data_Inclusao</th>\n",
       "    </tr>\n",
       "  </thead>\n",
       "  <tbody>\n",
       "  </tbody>\n",
       "</table>\n",
       "</div>"
      ],
      "text/plain": [
       "Empty DataFrame\n",
       "Columns: [Id_da_Stage, Valor_Total_Contrato, Qtd_Parcela_Contratada, Valor_Nao_Pago, CPF_Distinto, Operacoes_Unicas, Fonte_Dados, Modalidade_Operacao, Tipo_Cliente, Data_Ultima_Alteracao, Data_Inclusao]\n",
       "Index: []"
      ]
     },
     "execution_count": 39,
     "metadata": {},
     "output_type": "execute_result"
    }
   ],
   "source": [
    "df_b03 = df_opr.loc[(df_opr['Modalidade_Operacao'] == 'B03') & ~(df_opr['Valor_Total_Contrato'] == 'nan')]\n",
    "df_b03"
   ]
  },
  {
   "cell_type": "code",
   "execution_count": 40,
   "metadata": {},
   "outputs": [
    {
     "data": {
      "text/html": [
       "<div>\n",
       "<style scoped>\n",
       "    .dataframe tbody tr th:only-of-type {\n",
       "        vertical-align: middle;\n",
       "    }\n",
       "\n",
       "    .dataframe tbody tr th {\n",
       "        vertical-align: top;\n",
       "    }\n",
       "\n",
       "    .dataframe thead th {\n",
       "        text-align: right;\n",
       "    }\n",
       "</style>\n",
       "<table border=\"1\" class=\"dataframe\">\n",
       "  <thead>\n",
       "    <tr style=\"text-align: right;\">\n",
       "      <th></th>\n",
       "      <th>Id_da_Stage</th>\n",
       "      <th>Valor_Total_Contrato</th>\n",
       "      <th>Qtd_Parcela_Contratada</th>\n",
       "      <th>Valor_Nao_Pago</th>\n",
       "      <th>CPF_Distinto</th>\n",
       "      <th>Operacoes_Unicas</th>\n",
       "      <th>Fonte_Dados</th>\n",
       "      <th>Modalidade_Operacao</th>\n",
       "      <th>Tipo_Cliente</th>\n",
       "      <th>Data_Ultima_Alteracao</th>\n",
       "      <th>Data_Inclusao</th>\n",
       "    </tr>\n",
       "  </thead>\n",
       "  <tbody>\n",
       "  </tbody>\n",
       "</table>\n",
       "</div>"
      ],
      "text/plain": [
       "Empty DataFrame\n",
       "Columns: [Id_da_Stage, Valor_Total_Contrato, Qtd_Parcela_Contratada, Valor_Nao_Pago, CPF_Distinto, Operacoes_Unicas, Fonte_Dados, Modalidade_Operacao, Tipo_Cliente, Data_Ultima_Alteracao, Data_Inclusao]\n",
       "Index: []"
      ]
     },
     "execution_count": 40,
     "metadata": {},
     "output_type": "execute_result"
    }
   ],
   "source": [
    "df_b05 = df_opr.loc[(df_opr['Modalidade_Operacao'] == 'B05') & ~(df_opr['Valor_Total_Contrato'] == 'nan')]\n",
    "df_b05"
   ]
  },
  {
   "cell_type": "code",
   "execution_count": 41,
   "metadata": {},
   "outputs": [
    {
     "data": {
      "text/html": [
       "<div>\n",
       "<style scoped>\n",
       "    .dataframe tbody tr th:only-of-type {\n",
       "        vertical-align: middle;\n",
       "    }\n",
       "\n",
       "    .dataframe tbody tr th {\n",
       "        vertical-align: top;\n",
       "    }\n",
       "\n",
       "    .dataframe thead th {\n",
       "        text-align: right;\n",
       "    }\n",
       "</style>\n",
       "<table border=\"1\" class=\"dataframe\">\n",
       "  <thead>\n",
       "    <tr style=\"text-align: right;\">\n",
       "      <th></th>\n",
       "      <th>Id_da_Stage</th>\n",
       "      <th>Valor_Total_Contrato</th>\n",
       "      <th>Qtd_Parcela_Contratada</th>\n",
       "      <th>Valor_Nao_Pago</th>\n",
       "      <th>CPF_Distinto</th>\n",
       "      <th>Operacoes_Unicas</th>\n",
       "      <th>Fonte_Dados</th>\n",
       "      <th>Modalidade_Operacao</th>\n",
       "      <th>Tipo_Cliente</th>\n",
       "      <th>Data_Ultima_Alteracao</th>\n",
       "      <th>Data_Inclusao</th>\n",
       "    </tr>\n",
       "  </thead>\n",
       "  <tbody>\n",
       "  </tbody>\n",
       "</table>\n",
       "</div>"
      ],
      "text/plain": [
       "Empty DataFrame\n",
       "Columns: [Id_da_Stage, Valor_Total_Contrato, Qtd_Parcela_Contratada, Valor_Nao_Pago, CPF_Distinto, Operacoes_Unicas, Fonte_Dados, Modalidade_Operacao, Tipo_Cliente, Data_Ultima_Alteracao, Data_Inclusao]\n",
       "Index: []"
      ]
     },
     "execution_count": 41,
     "metadata": {},
     "output_type": "execute_result"
    }
   ],
   "source": [
    "df_b06 = df_opr.loc[(df_opr['Modalidade_Operacao'] == 'B06') & ~(df_opr['Valor_Total_Contrato'] == 'nan')]\n",
    "df_b06"
   ]
  },
  {
   "cell_type": "code",
   "execution_count": 42,
   "metadata": {},
   "outputs": [
    {
     "data": {
      "text/html": [
       "<div>\n",
       "<style scoped>\n",
       "    .dataframe tbody tr th:only-of-type {\n",
       "        vertical-align: middle;\n",
       "    }\n",
       "\n",
       "    .dataframe tbody tr th {\n",
       "        vertical-align: top;\n",
       "    }\n",
       "\n",
       "    .dataframe thead th {\n",
       "        text-align: right;\n",
       "    }\n",
       "</style>\n",
       "<table border=\"1\" class=\"dataframe\">\n",
       "  <thead>\n",
       "    <tr style=\"text-align: right;\">\n",
       "      <th></th>\n",
       "      <th>Id_da_Stage</th>\n",
       "      <th>Valor_Total_Contrato</th>\n",
       "      <th>Qtd_Parcela_Contratada</th>\n",
       "      <th>Valor_Nao_Pago</th>\n",
       "      <th>CPF_Distinto</th>\n",
       "      <th>Operacoes_Unicas</th>\n",
       "      <th>Fonte_Dados</th>\n",
       "      <th>Modalidade_Operacao</th>\n",
       "      <th>Tipo_Cliente</th>\n",
       "      <th>Data_Ultima_Alteracao</th>\n",
       "      <th>Data_Inclusao</th>\n",
       "    </tr>\n",
       "  </thead>\n",
       "  <tbody>\n",
       "  </tbody>\n",
       "</table>\n",
       "</div>"
      ],
      "text/plain": [
       "Empty DataFrame\n",
       "Columns: [Id_da_Stage, Valor_Total_Contrato, Qtd_Parcela_Contratada, Valor_Nao_Pago, CPF_Distinto, Operacoes_Unicas, Fonte_Dados, Modalidade_Operacao, Tipo_Cliente, Data_Ultima_Alteracao, Data_Inclusao]\n",
       "Index: []"
      ]
     },
     "execution_count": 42,
     "metadata": {},
     "output_type": "execute_result"
    }
   ],
   "source": [
    "df_b07 = df_opr.loc[(df_opr['Modalidade_Operacao'] == 'B07') & ~(df_opr['Valor_Total_Contrato'] == 'nan')]\n",
    "df_b07"
   ]
  },
  {
   "cell_type": "code",
   "execution_count": 43,
   "metadata": {},
   "outputs": [
    {
     "data": {
      "text/html": [
       "<div>\n",
       "<style scoped>\n",
       "    .dataframe tbody tr th:only-of-type {\n",
       "        vertical-align: middle;\n",
       "    }\n",
       "\n",
       "    .dataframe tbody tr th {\n",
       "        vertical-align: top;\n",
       "    }\n",
       "\n",
       "    .dataframe thead th {\n",
       "        text-align: right;\n",
       "    }\n",
       "</style>\n",
       "<table border=\"1\" class=\"dataframe\">\n",
       "  <thead>\n",
       "    <tr style=\"text-align: right;\">\n",
       "      <th></th>\n",
       "      <th>Id_da_Stage</th>\n",
       "      <th>Valor_Total_Contrato</th>\n",
       "      <th>Qtd_Parcela_Contratada</th>\n",
       "      <th>Valor_Nao_Pago</th>\n",
       "      <th>CPF_Distinto</th>\n",
       "      <th>Operacoes_Unicas</th>\n",
       "      <th>Fonte_Dados</th>\n",
       "      <th>Modalidade_Operacao</th>\n",
       "      <th>Tipo_Cliente</th>\n",
       "      <th>Data_Ultima_Alteracao</th>\n",
       "      <th>Data_Inclusao</th>\n",
       "    </tr>\n",
       "  </thead>\n",
       "  <tbody>\n",
       "  </tbody>\n",
       "</table>\n",
       "</div>"
      ],
      "text/plain": [
       "Empty DataFrame\n",
       "Columns: [Id_da_Stage, Valor_Total_Contrato, Qtd_Parcela_Contratada, Valor_Nao_Pago, CPF_Distinto, Operacoes_Unicas, Fonte_Dados, Modalidade_Operacao, Tipo_Cliente, Data_Ultima_Alteracao, Data_Inclusao]\n",
       "Index: []"
      ]
     },
     "execution_count": 43,
     "metadata": {},
     "output_type": "execute_result"
    }
   ],
   "source": [
    "df_b99 = df_opr.loc[(df_opr['Modalidade_Operacao'] == 'B99') & ~(df_opr['Valor_Total_Contrato'] == 'nan')]\n",
    "df_b99"
   ]
  },
  {
   "cell_type": "code",
   "execution_count": 44,
   "metadata": {},
   "outputs": [
    {
     "data": {
      "text/html": [
       "<div>\n",
       "<style scoped>\n",
       "    .dataframe tbody tr th:only-of-type {\n",
       "        vertical-align: middle;\n",
       "    }\n",
       "\n",
       "    .dataframe tbody tr th {\n",
       "        vertical-align: top;\n",
       "    }\n",
       "\n",
       "    .dataframe thead th {\n",
       "        text-align: right;\n",
       "    }\n",
       "</style>\n",
       "<table border=\"1\" class=\"dataframe\">\n",
       "  <thead>\n",
       "    <tr style=\"text-align: right;\">\n",
       "      <th></th>\n",
       "      <th>Id_da_Stage</th>\n",
       "      <th>Valor_Total_Contrato</th>\n",
       "      <th>Qtd_Parcela_Contratada</th>\n",
       "      <th>Valor_Nao_Pago</th>\n",
       "      <th>CPF_Distinto</th>\n",
       "      <th>Operacoes_Unicas</th>\n",
       "      <th>Fonte_Dados</th>\n",
       "      <th>Modalidade_Operacao</th>\n",
       "      <th>Tipo_Cliente</th>\n",
       "      <th>Data_Ultima_Alteracao</th>\n",
       "      <th>Data_Inclusao</th>\n",
       "    </tr>\n",
       "  </thead>\n",
       "  <tbody>\n",
       "    <tr>\n",
       "      <th>6</th>\n",
       "      <td>7</td>\n",
       "      <td>24231168.0</td>\n",
       "      <td>20</td>\n",
       "      <td>14774641.0</td>\n",
       "      <td>6</td>\n",
       "      <td>7</td>\n",
       "      <td>67</td>\n",
       "      <td>C01</td>\n",
       "      <td>F</td>\n",
       "      <td>2020-01-16</td>\n",
       "      <td>2020-01-27 10:49:48.15</td>\n",
       "    </tr>\n",
       "    <tr>\n",
       "      <th>14</th>\n",
       "      <td>15</td>\n",
       "      <td>83720000.0</td>\n",
       "      <td>158</td>\n",
       "      <td>61146076.0</td>\n",
       "      <td>4</td>\n",
       "      <td>4</td>\n",
       "      <td>67</td>\n",
       "      <td>C01</td>\n",
       "      <td>F</td>\n",
       "      <td>2020-01-16</td>\n",
       "      <td>2020-01-27 10:49:48.15</td>\n",
       "    </tr>\n",
       "    <tr>\n",
       "      <th>18</th>\n",
       "      <td>19</td>\n",
       "      <td>453409414.0</td>\n",
       "      <td>82</td>\n",
       "      <td>345569291.0</td>\n",
       "      <td>86</td>\n",
       "      <td>93</td>\n",
       "      <td>67</td>\n",
       "      <td>C01</td>\n",
       "      <td>F</td>\n",
       "      <td>2020-01-16</td>\n",
       "      <td>2020-01-27 10:49:48.15</td>\n",
       "    </tr>\n",
       "    <tr>\n",
       "      <th>19</th>\n",
       "      <td>20</td>\n",
       "      <td>831887355.0</td>\n",
       "      <td>70</td>\n",
       "      <td>387293236.0</td>\n",
       "      <td>150</td>\n",
       "      <td>171</td>\n",
       "      <td>67</td>\n",
       "      <td>C01</td>\n",
       "      <td>F</td>\n",
       "      <td>2020-01-16</td>\n",
       "      <td>2020-01-27 10:49:48.15</td>\n",
       "    </tr>\n",
       "    <tr>\n",
       "      <th>22</th>\n",
       "      <td>23</td>\n",
       "      <td>168720000.0</td>\n",
       "      <td>117</td>\n",
       "      <td>47151818.0</td>\n",
       "      <td>10</td>\n",
       "      <td>10</td>\n",
       "      <td>67</td>\n",
       "      <td>C01</td>\n",
       "      <td>F</td>\n",
       "      <td>2020-01-16</td>\n",
       "      <td>2020-01-27 10:49:48.15</td>\n",
       "    </tr>\n",
       "    <tr>\n",
       "      <th>...</th>\n",
       "      <td>...</td>\n",
       "      <td>...</td>\n",
       "      <td>...</td>\n",
       "      <td>...</td>\n",
       "      <td>...</td>\n",
       "      <td>...</td>\n",
       "      <td>...</td>\n",
       "      <td>...</td>\n",
       "      <td>...</td>\n",
       "      <td>...</td>\n",
       "      <td>...</td>\n",
       "    </tr>\n",
       "    <tr>\n",
       "      <th>853</th>\n",
       "      <td>854</td>\n",
       "      <td>235637981.0</td>\n",
       "      <td>93</td>\n",
       "      <td>123012165.0</td>\n",
       "      <td>21</td>\n",
       "      <td>22</td>\n",
       "      <td>67</td>\n",
       "      <td>C01</td>\n",
       "      <td>F</td>\n",
       "      <td>2020-01-16</td>\n",
       "      <td>2020-01-27 10:49:48.15</td>\n",
       "    </tr>\n",
       "    <tr>\n",
       "      <th>859</th>\n",
       "      <td>860</td>\n",
       "      <td>62075885.0</td>\n",
       "      <td>17</td>\n",
       "      <td>17357289.0</td>\n",
       "      <td>7</td>\n",
       "      <td>15</td>\n",
       "      <td>67</td>\n",
       "      <td>C01</td>\n",
       "      <td>F</td>\n",
       "      <td>2020-01-16</td>\n",
       "      <td>2020-01-27 10:49:48.15</td>\n",
       "    </tr>\n",
       "    <tr>\n",
       "      <th>869</th>\n",
       "      <td>870</td>\n",
       "      <td>213020000.0</td>\n",
       "      <td>176</td>\n",
       "      <td>132743567.0</td>\n",
       "      <td>12</td>\n",
       "      <td>15</td>\n",
       "      <td>67</td>\n",
       "      <td>C01</td>\n",
       "      <td>F</td>\n",
       "      <td>2020-01-16</td>\n",
       "      <td>2020-01-27 10:49:48.15</td>\n",
       "    </tr>\n",
       "    <tr>\n",
       "      <th>873</th>\n",
       "      <td>874</td>\n",
       "      <td>174842840.0</td>\n",
       "      <td>103</td>\n",
       "      <td>61800347.0</td>\n",
       "      <td>12</td>\n",
       "      <td>15</td>\n",
       "      <td>67</td>\n",
       "      <td>C01</td>\n",
       "      <td>F</td>\n",
       "      <td>2020-01-16</td>\n",
       "      <td>2020-01-27 10:49:48.15</td>\n",
       "    </tr>\n",
       "    <tr>\n",
       "      <th>886</th>\n",
       "      <td>887</td>\n",
       "      <td>85699650.0</td>\n",
       "      <td>105</td>\n",
       "      <td>57998876.0</td>\n",
       "      <td>14</td>\n",
       "      <td>15</td>\n",
       "      <td>67</td>\n",
       "      <td>C01</td>\n",
       "      <td>F</td>\n",
       "      <td>2020-01-16</td>\n",
       "      <td>2020-01-27 10:49:48.15</td>\n",
       "    </tr>\n",
       "  </tbody>\n",
       "</table>\n",
       "<p>186 rows × 11 columns</p>\n",
       "</div>"
      ],
      "text/plain": [
       "     Id_da_Stage Valor_Total_Contrato  Qtd_Parcela_Contratada  Valor_Nao_Pago  \\\n",
       "6              7           24231168.0                      20      14774641.0   \n",
       "14            15           83720000.0                     158      61146076.0   \n",
       "18            19          453409414.0                      82     345569291.0   \n",
       "19            20          831887355.0                      70     387293236.0   \n",
       "22            23          168720000.0                     117      47151818.0   \n",
       "..           ...                  ...                     ...             ...   \n",
       "853          854          235637981.0                      93     123012165.0   \n",
       "859          860           62075885.0                      17      17357289.0   \n",
       "869          870          213020000.0                     176     132743567.0   \n",
       "873          874          174842840.0                     103      61800347.0   \n",
       "886          887           85699650.0                     105      57998876.0   \n",
       "\n",
       "     CPF_Distinto  Operacoes_Unicas  Fonte_Dados Modalidade_Operacao  \\\n",
       "6               6                 7           67                 C01   \n",
       "14              4                 4           67                 C01   \n",
       "18             86                93           67                 C01   \n",
       "19            150               171           67                 C01   \n",
       "22             10                10           67                 C01   \n",
       "..            ...               ...          ...                 ...   \n",
       "853            21                22           67                 C01   \n",
       "859             7                15           67                 C01   \n",
       "869            12                15           67                 C01   \n",
       "873            12                15           67                 C01   \n",
       "886            14                15           67                 C01   \n",
       "\n",
       "    Tipo_Cliente Data_Ultima_Alteracao           Data_Inclusao  \n",
       "6              F            2020-01-16  2020-01-27 10:49:48.15  \n",
       "14             F            2020-01-16  2020-01-27 10:49:48.15  \n",
       "18             F            2020-01-16  2020-01-27 10:49:48.15  \n",
       "19             F            2020-01-16  2020-01-27 10:49:48.15  \n",
       "22             F            2020-01-16  2020-01-27 10:49:48.15  \n",
       "..           ...                   ...                     ...  \n",
       "853            F            2020-01-16  2020-01-27 10:49:48.15  \n",
       "859            F            2020-01-16  2020-01-27 10:49:48.15  \n",
       "869            F            2020-01-16  2020-01-27 10:49:48.15  \n",
       "873            F            2020-01-16  2020-01-27 10:49:48.15  \n",
       "886            F            2020-01-16  2020-01-27 10:49:48.15  \n",
       "\n",
       "[186 rows x 11 columns]"
      ]
     },
     "execution_count": 44,
     "metadata": {},
     "output_type": "execute_result"
    }
   ],
   "source": [
    "df_c01 = df_opr.loc[(df_opr['Modalidade_Operacao'] == 'C01') & ~(df_opr['Valor_Total_Contrato'] == 'nan')]\n",
    "df_c01"
   ]
  },
  {
   "cell_type": "code",
   "execution_count": 45,
   "metadata": {},
   "outputs": [
    {
     "data": {
      "text/html": [
       "<div>\n",
       "<style scoped>\n",
       "    .dataframe tbody tr th:only-of-type {\n",
       "        vertical-align: middle;\n",
       "    }\n",
       "\n",
       "    .dataframe tbody tr th {\n",
       "        vertical-align: top;\n",
       "    }\n",
       "\n",
       "    .dataframe thead th {\n",
       "        text-align: right;\n",
       "    }\n",
       "</style>\n",
       "<table border=\"1\" class=\"dataframe\">\n",
       "  <thead>\n",
       "    <tr style=\"text-align: right;\">\n",
       "      <th></th>\n",
       "      <th>Id_da_Stage</th>\n",
       "      <th>Valor_Total_Contrato</th>\n",
       "      <th>Qtd_Parcela_Contratada</th>\n",
       "      <th>Valor_Nao_Pago</th>\n",
       "      <th>CPF_Distinto</th>\n",
       "      <th>Operacoes_Unicas</th>\n",
       "      <th>Fonte_Dados</th>\n",
       "      <th>Modalidade_Operacao</th>\n",
       "      <th>Tipo_Cliente</th>\n",
       "      <th>Data_Ultima_Alteracao</th>\n",
       "      <th>Data_Inclusao</th>\n",
       "    </tr>\n",
       "  </thead>\n",
       "  <tbody>\n",
       "  </tbody>\n",
       "</table>\n",
       "</div>"
      ],
      "text/plain": [
       "Empty DataFrame\n",
       "Columns: [Id_da_Stage, Valor_Total_Contrato, Qtd_Parcela_Contratada, Valor_Nao_Pago, CPF_Distinto, Operacoes_Unicas, Fonte_Dados, Modalidade_Operacao, Tipo_Cliente, Data_Ultima_Alteracao, Data_Inclusao]\n",
       "Index: []"
      ]
     },
     "execution_count": 45,
     "metadata": {},
     "output_type": "execute_result"
    }
   ],
   "source": [
    "df_f01 = df_opr.loc[(df_opr['Modalidade_Operacao'] == 'F01') & ~(df_opr['Valor_Total_Contrato'] == 'nan')]\n",
    "df_f01"
   ]
  },
  {
   "cell_type": "code",
   "execution_count": 46,
   "metadata": {},
   "outputs": [
    {
     "data": {
      "text/html": [
       "<div>\n",
       "<style scoped>\n",
       "    .dataframe tbody tr th:only-of-type {\n",
       "        vertical-align: middle;\n",
       "    }\n",
       "\n",
       "    .dataframe tbody tr th {\n",
       "        vertical-align: top;\n",
       "    }\n",
       "\n",
       "    .dataframe thead th {\n",
       "        text-align: right;\n",
       "    }\n",
       "</style>\n",
       "<table border=\"1\" class=\"dataframe\">\n",
       "  <thead>\n",
       "    <tr style=\"text-align: right;\">\n",
       "      <th></th>\n",
       "      <th>Id_da_Stage</th>\n",
       "      <th>Valor_Total_Contrato</th>\n",
       "      <th>Qtd_Parcela_Contratada</th>\n",
       "      <th>Valor_Nao_Pago</th>\n",
       "      <th>CPF_Distinto</th>\n",
       "      <th>Operacoes_Unicas</th>\n",
       "      <th>Fonte_Dados</th>\n",
       "      <th>Modalidade_Operacao</th>\n",
       "      <th>Tipo_Cliente</th>\n",
       "      <th>Data_Ultima_Alteracao</th>\n",
       "      <th>Data_Inclusao</th>\n",
       "    </tr>\n",
       "  </thead>\n",
       "  <tbody>\n",
       "  </tbody>\n",
       "</table>\n",
       "</div>"
      ],
      "text/plain": [
       "Empty DataFrame\n",
       "Columns: [Id_da_Stage, Valor_Total_Contrato, Qtd_Parcela_Contratada, Valor_Nao_Pago, CPF_Distinto, Operacoes_Unicas, Fonte_Dados, Modalidade_Operacao, Tipo_Cliente, Data_Ultima_Alteracao, Data_Inclusao]\n",
       "Index: []"
      ]
     },
     "execution_count": 46,
     "metadata": {},
     "output_type": "execute_result"
    }
   ],
   "source": [
    "df_g01 = df_opr.loc[(df_opr['Modalidade_Operacao'] == 'G01') & ~(df_opr['Valor_Total_Contrato'] == 'nan')]\n",
    "df_g01"
   ]
  },
  {
   "cell_type": "markdown",
   "metadata": {},
   "source": [
    "# 7. Since from all the 'Modalidade_Operacao' values only Modalide C01 has 'Valor_Total_Contrato', we will use it only 'df_c01'\n"
   ]
  },
  {
   "cell_type": "code",
   "execution_count": 47,
   "metadata": {},
   "outputs": [
    {
     "name": "stderr",
     "output_type": "stream",
     "text": [
      "/home/midan/.local/lib/python3.6/site-packages/ipykernel_launcher.py:1: SettingWithCopyWarning: \n",
      "A value is trying to be set on a copy of a slice from a DataFrame.\n",
      "Try using .loc[row_indexer,col_indexer] = value instead\n",
      "\n",
      "See the caveats in the documentation: https://pandas.pydata.org/pandas-docs/stable/user_guide/indexing.html#returning-a-view-versus-a-copy\n",
      "  \"\"\"Entry point for launching an IPython kernel.\n",
      "/home/midan/.local/lib/python3.6/site-packages/ipykernel_launcher.py:2: SettingWithCopyWarning: \n",
      "A value is trying to be set on a copy of a slice from a DataFrame.\n",
      "Try using .loc[row_indexer,col_indexer] = value instead\n",
      "\n",
      "See the caveats in the documentation: https://pandas.pydata.org/pandas-docs/stable/user_guide/indexing.html#returning-a-view-versus-a-copy\n",
      "  \n"
     ]
    },
    {
     "data": {
      "text/plain": [
       "Id_da_Stage                 int64\n",
       "Valor_Total_Contrato      float64\n",
       "Qtd_Parcela_Contratada      int64\n",
       "Valor_Nao_Pago            float64\n",
       "CPF_Distinto                int64\n",
       "Operacoes_Unicas            int64\n",
       "Fonte_Dados                 int64\n",
       "Modalidade_Operacao        object\n",
       "Tipo_Cliente               object\n",
       "Data_Ultima_Alteracao      object\n",
       "Data_Inclusao              object\n",
       "dtype: object"
      ]
     },
     "execution_count": 47,
     "metadata": {},
     "output_type": "execute_result"
    }
   ],
   "source": [
    "df_c01['Valor_Total_Contrato'] = df_c01['Valor_Total_Contrato'].astype(float)\n",
    "df_c01['Data_Ultima_Alteracao'] = df_c01['Data_Ultima_Alteracao'].astype(str)\n",
    "df_c01.dtypes"
   ]
  },
  {
   "cell_type": "markdown",
   "metadata": {},
   "source": [
    "# 8. Create new df's with the data we need it"
   ]
  },
  {
   "cell_type": "code",
   "execution_count": 48,
   "metadata": {},
   "outputs": [],
   "source": [
    "df_id = (df_c01['Fonte_Dados'].iloc[0]) #.values.tolist())\n",
    "df_vlr_tot = (df_c01['Valor_Total_Contrato'].sum(axis=0))\n",
    "df_vlr_pg = (df_c01['Valor_Total_Contrato'].sum(axis=0)) - (df['Valor_Nao_Pago'].sum(axis=0))\n",
    "df_vlr_npg = (df_c01['Valor_Nao_Pago'].sum(axis=0))\n",
    "df_data = (df_c01['Data_Ultima_Alteracao'].iloc[0])\n"
   ]
  },
  {
   "cell_type": "markdown",
   "metadata": {},
   "source": [
    "# 9. Just a print for reading purposes"
   ]
  },
  {
   "cell_type": "code",
   "execution_count": 49,
   "metadata": {},
   "outputs": [
    {
     "data": {
      "text/markdown": [
       "**Valor Total dos Contratos**:                     R$ 69118776187.00\n"
      ],
      "text/plain": [
       "<IPython.core.display.Markdown object>"
      ]
     },
     "metadata": {},
     "output_type": "display_data"
    },
    {
     "data": {
      "text/markdown": [
       "<span style='color:green'>**Valor Total Pago**:    R$ 29498531771.00\n",
       "</span>"
      ],
      "text/plain": [
       "<IPython.core.display.Markdown object>"
      ]
     },
     "metadata": {},
     "output_type": "display_data"
    },
    {
     "data": {
      "text/markdown": [
       "<span style='color:red'>**Valor Total Não Pago**:  R$ 39620244416.00\n",
       "</span>"
      ],
      "text/plain": [
       "<IPython.core.display.Markdown object>"
      ]
     },
     "metadata": {},
     "output_type": "display_data"
    }
   ],
   "source": [
    "printmd(f'**Valor Total dos Contratos**:                     R$ {df_vlr_tot:.2f}\\n')\n",
    "printmd(f\"<span style='color:green'>**Valor Total Pago**:    R$ {df_vlr_pg:.2f}\\n</span>\")\n",
    "printmd(f\"<span style='color:red'>**Valor Total Não Pago**:  R$ {df_vlr_npg:.2f}\\n</span>\")\n"
   ]
  },
  {
   "cell_type": "markdown",
   "metadata": {},
   "source": [
    "# 10. Now we create the final DF"
   ]
  },
  {
   "cell_type": "code",
   "execution_count": 50,
   "metadata": {},
   "outputs": [
    {
     "data": {
      "text/html": [
       "<div>\n",
       "<style scoped>\n",
       "    .dataframe tbody tr th:only-of-type {\n",
       "        vertical-align: middle;\n",
       "    }\n",
       "\n",
       "    .dataframe tbody tr th {\n",
       "        vertical-align: top;\n",
       "    }\n",
       "\n",
       "    .dataframe thead th {\n",
       "        text-align: right;\n",
       "    }\n",
       "</style>\n",
       "<table border=\"1\" class=\"dataframe\">\n",
       "  <thead>\n",
       "    <tr style=\"text-align: right;\">\n",
       "      <th></th>\n",
       "      <th>Id_Fonte</th>\n",
       "      <th>Valor_Total</th>\n",
       "      <th>Valor_Pago</th>\n",
       "      <th>Valor_Nao_Pago</th>\n",
       "      <th>Data_Remessa</th>\n",
       "    </tr>\n",
       "  </thead>\n",
       "  <tbody>\n",
       "    <tr>\n",
       "      <th>0</th>\n",
       "      <td>67</td>\n",
       "      <td>69118776187</td>\n",
       "      <td>29498531771</td>\n",
       "      <td>39620244416</td>\n",
       "      <td>2020-01-16</td>\n",
       "    </tr>\n",
       "  </tbody>\n",
       "</table>\n",
       "</div>"
      ],
      "text/plain": [
       "   Id_Fonte  Valor_Total   Valor_Pago  Valor_Nao_Pago Data_Remessa\n",
       "0        67  69118776187  29498531771     39620244416   2020-01-16"
      ]
     },
     "execution_count": 50,
     "metadata": {},
     "output_type": "execute_result"
    }
   ],
   "source": [
    "new = {'Id_Fonte' : [df_id] ,'Valor_Total' : [df_vlr_tot], 'Valor_Pago' : [df_vlr_pg], \n",
    "       'Valor_Nao_Pago' : [df_vlr_npg], 'Data_Remessa' : [df_data]}\n",
    "\n",
    "\n",
    "\n",
    "newdf = pd.DataFrame(new, columns = ['Id_Fonte','Valor_Total', 'Valor_Pago', 'Valor_Nao_Pago','Data_Remessa'])\n",
    "\n",
    "newdf['Id_Fonte'] = newdf['Id_Fonte']\n",
    "newdf['Valor_Total'] = newdf['Valor_Total'].astype(int)\n",
    "newdf['Valor_Pago'] = newdf['Valor_Pago'].astype(int)\n",
    "newdf['Valor_Nao_Pago'] = newdf['Valor_Nao_Pago'].astype(int)\n",
    "newdf['Data_Remessa'] = newdf['Data_Remessa']\n",
    "\n",
    "\n",
    "newdf"
   ]
  },
  {
   "cell_type": "markdown",
   "metadata": {},
   "source": [
    "# 11. Save in a .xlsx file"
   ]
  },
  {
   "cell_type": "code",
   "execution_count": 10,
   "metadata": {},
   "outputs": [],
   "source": [
    "newdf.to_excel('DELETAR.xlsx', index=True) "
   ]
  },
  {
   "cell_type": "code",
   "execution_count": null,
   "metadata": {},
   "outputs": [],
   "source": []
  },
  {
   "cell_type": "code",
   "execution_count": null,
   "metadata": {},
   "outputs": [],
   "source": []
  }
 ],
 "metadata": {
  "kernelspec": {
   "display_name": "Python 3",
   "language": "python",
   "name": "python3"
  },
  "language_info": {
   "codemirror_mode": {
    "name": "ipython",
    "version": 3
   },
   "file_extension": ".py",
   "mimetype": "text/x-python",
   "name": "python",
   "nbconvert_exporter": "python",
   "pygments_lexer": "ipython3",
   "version": "3.8.2"
  }
 },
 "nbformat": 4,
 "nbformat_minor": 4
}
